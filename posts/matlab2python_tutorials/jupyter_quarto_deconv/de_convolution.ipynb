{
  "cells": [
    {
      "cell_type": "raw",
      "metadata": {},
      "source": [
        "---\n",
        "title: 'Convolution and deconvolution: an Illustration'\n",
        "subtitle: This Jupyter notebook in a Quarto slideshow is translated from a Matlab LiveScript. The code visualizes some of the elements of convolution and deconvolution\n",
        "format: revealjs\n",
        "editor: visual\n",
        "---"
      ],
      "id": "3c6e578e"
    },
    {
      "cell_type": "markdown",
      "metadata": {},
      "source": [
        "## Convolution and deconvolution: an Illustration\n",
        "\n",
        "This live script visualizes some of the elements of convolution and deconvolution\n",
        "\n",
        "1\\) Convolution: a simple mathematical function that quantifies the similarity between a pattern (a \"kernel\") such as the red square wave below with data (the blue rectangularish thingy below). The convolution (black line) reflects how similar the blue signal is with the kernel at any given time point. Convolution is thus used in all of digital signal processing.\n",
        "\n",
        "\\##\n",
        "\n",
        "The math is simple. We take the kernel, move it to the first portion of the data by lining it up with the first sample point, then we multiply each element of the kernel with the data, sum the results into one new number and write that to that first sample point.\n",
        "\n",
        "## Convolution in signal generation and in fMRI research.\n",
        "\n",
        "if we want to generate a signal where a certain pattern (the kernel) occurs at certain times, we can use convolution to achieve that. Thus, programs liek SPM use convolution of stimulus timinng info with a lernel that resembles the typical BOLD (fMRI) response as the kernel to generate fake, ideal, fMRI activation for comparison/correlation with the real data:\n",
        "\n",
        "\n",
        "```{matlab eval=FALSE, include=FALSE}\n",
        "%First, make onsets for 120 MR images. \n",
        "onsets = zeros(1, 120); \n",
        "onsets(2:11:end) = 1; %simple case where a stimulus is on every 11 scans\n",
        "plot(onsets), title ('simulated stimulus onsets, every 11 scans')\n",
        "```"
      ],
      "id": "35a1de7e"
    },
    {
      "cell_type": "code",
      "metadata": {},
      "source": [
        "%First, make onsets for 120 MR images. \n",
        "onsets = zeros(1, 120); \n",
        "onsets(2:11:end) = 1; %simple case where a stimulus is on every 11 scans\n",
        "plot(onsets), title ('simulated stimulus onsets, every 11 scans')"
      ],
      "id": "b470837a",
      "execution_count": null,
      "outputs": []
    },
    {
      "cell_type": "markdown",
      "metadata": {},
      "source": [
        "\\##\n",
        "\n",
        "\n",
        "```{matlab eval=FALSE, include=FALSE}\n",
        "% now we make a kernel\n",
        "% the inverted gamma function is nice because it looks like fMRI in V1\n",
        "% let's make one that is 10 scans long\n",
        "kernel = (1./gamma(0.1:0.5:5))\n",
        "figure\n",
        "plot(1./gamma(0.1:0.5:5)), title('an inverted gamma kernel, length 10')\n",
        "\n",
        "```"
      ],
      "id": "02b1c5d0"
    },
    {
      "cell_type": "code",
      "metadata": {},
      "source": [
        "% now we make a kernel\n",
        "% the inverted gamma function is nice because it looks like fMRI in V1\n",
        "% let's make one that is 10 scans long\n",
        "kernel = (1./gamma(0.1:0.5:5))\n",
        "figure\n",
        "plot(1./gamma(0.1:0.5:5)), title('an inverted gamma kernel, length 10')"
      ],
      "id": "8b349c6a",
      "execution_count": null,
      "outputs": []
    },
    {
      "cell_type": "markdown",
      "metadata": {},
      "source": [
        "\\##\n",
        "\n",
        "Now we just convolve the onsets with the kernel and plot the result\n",
        "\n",
        "\n",
        "```{matlab eval=FALSE, include=FALSE}\n",
        "convolution  = conv(onsets, kernel); \n",
        "figure\n",
        "plot(convolution), title('onset vector convolved with canonical BOLD response')\n",
        "```"
      ],
      "id": "53e90ee3"
    },
    {
      "cell_type": "code",
      "metadata": {},
      "source": [
        "convolution  = conv(onsets, kernel); \n",
        "figure\n",
        "plot(convolution), title('onset vector convolved with canonical BOLD response')"
      ],
      "id": "e8ac09ff",
      "execution_count": null,
      "outputs": []
    },
    {
      "cell_type": "markdown",
      "metadata": {},
      "source": [
        "## \n",
        "\n",
        "So this basically puts each 10 second kernel at the location where the onset is. There were 11 seconds between onsets, so this is like copy paste, but how about when the kernel is longer than the interval between onsets?\n",
        "\n",
        "\n",
        "```{matlab eval=FALSE, include=FALSE}\n",
        "\n",
        "kernel = (1./gamma(0.1:0.25:5)) % this Kernel is twice as long\n",
        "convolution  = conv(onsets, kernel); \n",
        "figure\n",
        "plot(convolution), title('Convolution with temporal summation')\n",
        "\n",
        "```"
      ],
      "id": "523caad3"
    },
    {
      "cell_type": "code",
      "metadata": {},
      "source": [
        "kernel = (1./gamma(0.1:0.25:5)) % this Kernel is twice as long\n",
        "convolution  = conv(onsets, kernel); \n",
        "figure\n",
        "plot(convolution), title('Convolution with temporal summation')"
      ],
      "id": "e9060b93",
      "execution_count": null,
      "outputs": []
    },
    {
      "cell_type": "markdown",
      "metadata": {},
      "source": [
        "\\##\n",
        "\n",
        "So this basically puts each 10 second kernel at the location where the onset is. There were 11 seconds between onsets, so this is like copy paste, but how about when the kernel is longer than the interval between onsets?\n",
        "\n",
        "\n",
        "```{matlab eval=FALSE, include=FALSE}\n",
        "\n",
        "kernel = (1./gamma(0.1:0.25:5)) % this Kernel is twice as long\n",
        "convolution  = conv(onsets, kernel); \n",
        "figure\n",
        "plot(convolution), title('Convolution with temporal summation')\n",
        "\n",
        "```"
      ],
      "id": "a8a1c1ad"
    },
    {
      "cell_type": "code",
      "metadata": {},
      "source": [
        "kernel = (1./gamma(0.1:0.25:5)) % this Kernel is twice as long\n",
        "convolution  = conv(onsets, kernel); \n",
        "figure\n",
        "plot(convolution), title('Convolution with temporal summation')"
      ],
      "id": "ee27ed96",
      "execution_count": null,
      "outputs": []
    },
    {
      "cell_type": "markdown",
      "metadata": {},
      "source": [
        "When the convolution encounters overlap, then temporal summation results, because convolution is a process of shifting the kernel, multiplying element-wise, and summation to one new value, rinse and repeat. Because of the shifting and summing up portion of the algorithm, if the Kernel spans multiple, similar events, it will show temporal summation.\n",
        "\n",
        "## \n",
        "\n",
        "This is more interesting with variable inter-onset times.\n",
        "\n",
        "\n",
        "```{matlab eval=FALSE, include=FALSE}\n",
        "\n",
        "onsets = zeros(1, 120);\n",
        "onsets([3 14 22 36 46 50 66 86 91 106 115]) = 1; %simple case where a stimulus is on every 11 scans\n",
        "plot(onsets), title ('simulated stimulus onsets, every 11 scans')\n",
        "\n",
        "```"
      ],
      "id": "d6f5b714"
    },
    {
      "cell_type": "code",
      "metadata": {},
      "source": [
        "onsets = zeros(1, 120);\n",
        "onsets([3 14 22 36 46 50 66 86 91 106 115]) = 1; %simple case where a stimulus is on every 11 scans\n",
        "plot(onsets), title ('simulated stimulus onsets, every 11 scans')"
      ],
      "id": "40674ebf",
      "execution_count": null,
      "outputs": []
    },
    {
      "cell_type": "markdown",
      "metadata": {},
      "source": [
        "\\##\n",
        "\n",
        "Now we convolve these onset times with the same kernel\n",
        "\n",
        "\n",
        "```{matlab eval=FALSE, include=FALSE}\n",
        "\n",
        "convolution  = conv(onsets, kernel); \n",
        "figure\n",
        "plot(convolution), title('Convolution of random ITIs')\n",
        "\n",
        "```"
      ],
      "id": "43a2475c"
    },
    {
      "cell_type": "code",
      "metadata": {},
      "source": [
        "convolution  = conv(onsets, kernel); \n",
        "figure\n",
        "plot(convolution), title('Convolution of random ITIs')"
      ],
      "id": "51e26699",
      "execution_count": null,
      "outputs": []
    },
    {
      "cell_type": "markdown",
      "metadata": {},
      "source": [
        "Longer intervals between onsets prompt complete reduction to baseline, temporal proximity prompts smeared, overlapping events. How about gamma-shaped responses to stimuli that are longer than one image?\n",
        "\n",
        "\n",
        "```{matlab eval=FALSE, include=FALSE}\n",
        "\n",
        "onsets = zeros(1, 120);\n",
        "onsets([3 14 22 36 46 50 66 86 91 106 115]) = 1;%simple case where a stimulus is on every 11 scans\n",
        "onsets([3 14 22 36 46 50 66 86 91 106 115]+1) = 1;\n",
        "onsets([3 14 22 36 46 50 66 86 91 106 115]+2) = 1;\n",
        "onsets([3 14 22 36 46 50 66 86 91 106 115]+3) = 1;\n",
        "plot(onsets), title ('simulated stimulus onsets, every 11 scans')\n",
        "\n",
        "```"
      ],
      "id": "305e844d"
    },
    {
      "cell_type": "code",
      "metadata": {},
      "source": [
        "onsets = zeros(1, 120);\n",
        "onsets([3 14 22 36 46 50 66 86 91 106 115]) = 1;%simple case where a stimulus is on every 11 scans\n",
        "onsets([3 14 22 36 46 50 66 86 91 106 115]+1) = 1;\n",
        "onsets([3 14 22 36 46 50 66 86 91 106 115]+2) = 1;\n",
        "onsets([3 14 22 36 46 50 66 86 91 106 115]+3) = 1;\n",
        "plot(onsets), title ('simulated stimulus onsets, every 11 scans')"
      ],
      "id": "35f51ea1",
      "execution_count": null,
      "outputs": []
    },
    {
      "cell_type": "markdown",
      "metadata": {},
      "source": [
        "## \n",
        "\n",
        "Now we convolve these onset times with the same kernel\n",
        "\n",
        "\n",
        "```{matlab eval=FALSE, include=FALSE}\n",
        "\n",
        "convolution  = conv(onsets, kernel); \n",
        "figure\n",
        "plot(convolution), title('Convolution with 4-TR-long events'), ylabel('note the scale')\n",
        "\n",
        "```"
      ],
      "id": "e195ee1b"
    },
    {
      "cell_type": "code",
      "metadata": {},
      "source": [
        "convolution  = conv(onsets, kernel); \n",
        "figure\n",
        "plot(convolution), title('Convolution with 4-TR-long events'), ylabel('note the scale')"
      ],
      "id": "c7bd1232",
      "execution_count": null,
      "outputs": []
    },
    {
      "cell_type": "markdown",
      "metadata": {},
      "source": [
        "# Deconvolution\n",
        "\n",
        "And now something completely different\n",
        "\n",
        "\\##\n",
        "\n",
        "deconvolution is the process where we wish to estimate the Kernel from known data and known event-times. This is a version of the so-called inverse problem , and we solve it with a regression. Let's start with the simulated we we have:\n",
        "\n",
        "\n",
        "```{matlab eval=FALSE, include=FALSE}\n",
        "\n",
        "% for a regression, we need a \"design matrix\" X\n",
        "X = zeros(length(convolution(1:120)), 20); % we know the convolution and the kernel we used had 20 values\n",
        "temp = onsets';\n",
        "for i=1:20\n",
        "X(:,i) = temp;\n",
        "temp = [0;temp(1:end-1)];\n",
        "end\n",
        "pcolor(X), colormap('gray'), title('design matrix = predictor variables for each of the 120 scans')\n",
        "\n",
        "```"
      ],
      "id": "106a0aba"
    },
    {
      "cell_type": "code",
      "metadata": {},
      "source": [
        "% for a regression, we need a \"design matrix\" X\n",
        "X = zeros(length(convolution(1:120)), 20); % we know the convolution and the kernel we used had 20 values\n",
        "temp = onsets';\n",
        "for i=1:20\n",
        "X(:,i) = temp;\n",
        "temp = [0;temp(1:end-1)];\n",
        "end\n",
        "pcolor(X), colormap('gray'), title('design matrix = predictor variables for each of the 120 scans')"
      ],
      "id": "20825a74",
      "execution_count": null,
      "outputs": []
    },
    {
      "cell_type": "markdown",
      "metadata": {},
      "source": [
        "\\##\n",
        "\n",
        "\n",
        "```{matlab eval=FALSE, include=FALSE}\n",
        "\n",
        "% now invert design matrix X\n",
        "PX = pinv(X); size(PX), figure, pcolor(PX), colormap('gray')\n",
        "\n",
        "% estimate kernel, h\n",
        "h = PX* convolution(1:120)';\n",
        "\n",
        "```"
      ],
      "id": "e08e0200"
    },
    {
      "cell_type": "code",
      "metadata": {},
      "source": [
        "% now invert design matrix X\n",
        "PX = pinv(X); size(PX), figure, pcolor(PX), colormap('gray')\n",
        "\n",
        "% estimate kernel, h\n",
        "h = PX* convolution(1:120)';"
      ],
      "id": "8a19a598",
      "execution_count": null,
      "outputs": []
    },
    {
      "cell_type": "markdown",
      "metadata": {},
      "source": [
        "\\##\n",
        "\n",
        "\n",
        "```{matlab eval=FALSE, include=FALSE}\n",
        "\n",
        "% and now.... drum roll\n",
        "figure, plot(h), hold on, plot(kernel+0.01)\n",
        "\n",
        "```"
      ],
      "id": "931999f5"
    },
    {
      "cell_type": "code",
      "metadata": {},
      "source": [
        "% and now.... drum roll\n",
        "figure, plot(h), hold on, plot(kernel+0.01)"
      ],
      "id": "68cab11b",
      "execution_count": null,
      "outputs": []
    },
    {
      "cell_type": "markdown",
      "metadata": {},
      "source": [
        "```{matlab eval=FALSE, include=FALSE}\n",
        "\n",
        "% in short:\n",
        "[h] = hrf_est(convolution(1:120)',[3 14 22 36 46 50 66 86 91 106 115], 20); \n",
        "plot(h)\n",
        "\n",
        "```"
      ],
      "id": "b5d421cb"
    },
    {
      "cell_type": "code",
      "metadata": {},
      "source": [
        "% in short:\n",
        "[h] = hrf_est(convolution(1:120)',[3 14 22 36 46 50 66 86 91 106 115], 20); \n",
        "plot(h)"
      ],
      "id": "2d744218",
      "execution_count": null,
      "outputs": []
    }
  ],
  "metadata": {
    "kernelspec": {
      "name": "python3",
      "language": "python",
      "display_name": "Python 3"
    }
  },
  "nbformat": 4,
  "nbformat_minor": 5
}